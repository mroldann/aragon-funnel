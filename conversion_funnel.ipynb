{
 "cells": [
  {
   "cell_type": "markdown",
   "id": "a88c49ff",
   "metadata": {
    "hideCode": false,
    "hidePrompt": false
   },
   "source": [
    "# Conversion funnel\n",
    "\n",
    "I decided to code and show this exercise using `Jupyter Notebooks` due to being a great way to **share Data Science insights**.\n",
    "\n",
    "As it is `code` it can be version-controlled. Texts are written in `markdown` format.\n",
    "\n",
    "It is an **open-source web application** that allows to create and share documents that contain live code, equations, visualizations and narrative text. [Source](https://jupyter.org/)\n",
    "\n",
    "It lets you export files to PDF and HTML."
   ]
  },
  {
   "cell_type": "code",
   "execution_count": 1,
   "id": "3047e3e6",
   "metadata": {
    "hideCode": false,
    "hidePrompt": false,
    "scrolled": true,
    "tags": []
   },
   "outputs": [],
   "source": [
    "import pandas as pd\n",
    "import plotly.express as px\n",
    "import plotly.io as pio\n",
    "pio.renderers.default = 'iframe_connected'\n",
    "import plotly.express as px"
   ]
  },
  {
   "cell_type": "code",
   "execution_count": 2,
   "id": "af142f64",
   "metadata": {
    "hideCode": false,
    "hidePrompt": false,
    "tags": []
   },
   "outputs": [],
   "source": [
    "df_funnel = pd.read_csv(\n",
    "    'conversion_funnel.csv', \n",
    "    index_col=0\n",
    ")"
   ]
  },
  {
   "cell_type": "markdown",
   "id": "c9fe9ac3",
   "metadata": {
    "hideCode": false,
    "hidePrompt": false
   },
   "source": [
    "# Conversion funnel table \n",
    "This table was loaded from `conversion_funnel.csv` file. It shows user drop-off metrics per step given a sample of `50000` users."
   ]
  },
  {
   "cell_type": "code",
   "execution_count": 3,
   "id": "90242fbf",
   "metadata": {
    "hideCode": false,
    "hidePrompt": false
   },
   "outputs": [
    {
     "data": {
      "text/html": [
       "<div>\n",
       "<style scoped>\n",
       "    .dataframe tbody tr th:only-of-type {\n",
       "        vertical-align: middle;\n",
       "    }\n",
       "\n",
       "    .dataframe tbody tr th {\n",
       "        vertical-align: top;\n",
       "    }\n",
       "\n",
       "    .dataframe thead th {\n",
       "        text-align: right;\n",
       "    }\n",
       "</style>\n",
       "<table border=\"1\" class=\"dataframe\">\n",
       "  <thead>\n",
       "    <tr style=\"text-align: right;\">\n",
       "      <th></th>\n",
       "      <th>Step Name</th>\n",
       "      <th>Drop-off %</th>\n",
       "      <th>Acc. Drop-off %</th>\n",
       "      <th>Remaining Users %</th>\n",
       "      <th>Remaining Users Count</th>\n",
       "    </tr>\n",
       "    <tr>\n",
       "      <th>Step number</th>\n",
       "      <th></th>\n",
       "      <th></th>\n",
       "      <th></th>\n",
       "      <th></th>\n",
       "      <th></th>\n",
       "    </tr>\n",
       "  </thead>\n",
       "  <tbody>\n",
       "    <tr>\n",
       "      <th>1</th>\n",
       "      <td>Landing</td>\n",
       "      <td>0.00</td>\n",
       "      <td>0.00</td>\n",
       "      <td>1.00</td>\n",
       "      <td>50000</td>\n",
       "    </tr>\n",
       "    <tr>\n",
       "      <th>2</th>\n",
       "      <td>Create an organization (button)</td>\n",
       "      <td>0.50</td>\n",
       "      <td>0.50</td>\n",
       "      <td>0.50</td>\n",
       "      <td>25000</td>\n",
       "    </tr>\n",
       "    <tr>\n",
       "      <th>3</th>\n",
       "      <td>Connect Ethereum account (button)</td>\n",
       "      <td>0.30</td>\n",
       "      <td>0.80</td>\n",
       "      <td>0.20</td>\n",
       "      <td>10000</td>\n",
       "    </tr>\n",
       "    <tr>\n",
       "      <th>4</th>\n",
       "      <td>Select template (and enable Agent)</td>\n",
       "      <td>0.05</td>\n",
       "      <td>0.85</td>\n",
       "      <td>0.15</td>\n",
       "      <td>7500</td>\n",
       "    </tr>\n",
       "    <tr>\n",
       "      <th>5</th>\n",
       "      <td>Claim a name</td>\n",
       "      <td>0.01</td>\n",
       "      <td>0.86</td>\n",
       "      <td>0.15</td>\n",
       "      <td>7250</td>\n",
       "    </tr>\n",
       "    <tr>\n",
       "      <th>6</th>\n",
       "      <td>Configure template (Voting)</td>\n",
       "      <td>0.02</td>\n",
       "      <td>0.88</td>\n",
       "      <td>0.13</td>\n",
       "      <td>6250</td>\n",
       "    </tr>\n",
       "    <tr>\n",
       "      <th>7</th>\n",
       "      <td>Configure template (Tokens)</td>\n",
       "      <td>0.01</td>\n",
       "      <td>0.89</td>\n",
       "      <td>0.12</td>\n",
       "      <td>5750</td>\n",
       "    </tr>\n",
       "    <tr>\n",
       "      <th>8</th>\n",
       "      <td>Review information</td>\n",
       "      <td>0.01</td>\n",
       "      <td>0.90</td>\n",
       "      <td>0.11</td>\n",
       "      <td>5250</td>\n",
       "    </tr>\n",
       "    <tr>\n",
       "      <th>9</th>\n",
       "      <td>Launch organization</td>\n",
       "      <td>0.08</td>\n",
       "      <td>0.98</td>\n",
       "      <td>0.02</td>\n",
       "      <td>1250</td>\n",
       "    </tr>\n",
       "  </tbody>\n",
       "</table>\n",
       "</div>"
      ],
      "text/plain": [
       "                                      Step Name  Drop-off %  Acc. Drop-off %  \\\n",
       "Step number                                                                    \n",
       "1                                       Landing        0.00             0.00   \n",
       "2               Create an organization (button)        0.50             0.50   \n",
       "3             Connect Ethereum account (button)        0.30             0.80   \n",
       "4            Select template (and enable Agent)        0.05             0.85   \n",
       "5                                  Claim a name        0.01             0.86   \n",
       "6                   Configure template (Voting)        0.02             0.88   \n",
       "7                   Configure template (Tokens)        0.01             0.89   \n",
       "8                            Review information        0.01             0.90   \n",
       "9                           Launch organization        0.08             0.98   \n",
       "\n",
       "             Remaining Users %  Remaining Users Count  \n",
       "Step number                                            \n",
       "1                         1.00                  50000  \n",
       "2                         0.50                  25000  \n",
       "3                         0.20                  10000  \n",
       "4                         0.15                   7500  \n",
       "5                         0.15                   7250  \n",
       "6                         0.13                   6250  \n",
       "7                         0.12                   5750  \n",
       "8                         0.11                   5250  \n",
       "9                         0.02                   1250  "
      ]
     },
     "execution_count": 3,
     "metadata": {},
     "output_type": "execute_result"
    }
   ],
   "source": [
    "df_funnel"
   ]
  },
  {
   "cell_type": "markdown",
   "id": "35e428d3",
   "metadata": {},
   "source": [
    " "
   ]
  },
  {
   "cell_type": "markdown",
   "id": "00e330ca",
   "metadata": {
    "hideCode": false,
    "hidePrompt": false
   },
   "source": [
    "# Conversion viz with `plotly`\n",
    "*Note: `iframe_figures` directory is needed in the same directory of the notebook*"
   ]
  },
  {
   "cell_type": "code",
   "execution_count": 4,
   "id": "ca94c8e3",
   "metadata": {
    "hideCode": false,
    "hidePrompt": false,
    "tags": []
   },
   "outputs": [
    {
     "data": {
      "text/html": [
       "<iframe\n",
       "    scrolling=\"no\"\n",
       "    width=\"100%\"\n",
       "    height=\"545px\"\n",
       "    src=\"iframe_figures/figure_4.html\"\n",
       "    frameborder=\"0\"\n",
       "    allowfullscreen\n",
       "></iframe>\n"
      ]
     },
     "metadata": {},
     "output_type": "display_data"
    }
   ],
   "source": [
    "fig = px.funnel(\n",
    "    df_funnel, \n",
    "    x='Remaining Users Count', \n",
    "    y='Step Name'\n",
    ")\n",
    "\n",
    "fig.show()"
   ]
  },
  {
   "cell_type": "markdown",
   "id": "966cbd24",
   "metadata": {
    "hideCode": false,
    "hidePrompt": false
   },
   "source": [
    "# Key events/attributes to be tracked per step plus potential usage:\n",
    "*Assumption: this actions are data privacy complient, don not deteriorate user experience and are technologically feasible.*\n",
    "\n",
    "### General tracking\n",
    "- Session duration\n",
    "- Returning users classification\n",
    "- Having a `heat-map` for each step, so as to know whether something in the UI distracts users\n",
    "\n",
    "### 1) Landing\n",
    "**User's**: OS, device, browswer, location (country/continent). \n",
    "\n",
    "Could be used to better understand users by their devices and location. Eg. if certain country has high amount of users users, we may decide include it in laguages for translation list.\n",
    "\n",
    "### 2) Create an organization (button)\n",
    "Click **count** and **time** to click.\n",
    "\n",
    "To understand UX effectiveness.\n",
    "\n",
    "### 3) Connect Ethereum account (button)\n",
    "**ETH address, balance, and holdings**, **wallet** type, **time** to connect.\n",
    "\n",
    "Balance, holdings and wallet could be used to understand our users by their crypto interests.\n",
    "Long time to connect may indicate less experienced users.\n",
    "\n",
    "### 4) Select template (Company and enable Agent)\n",
    "Track **templates type** browsing, clicks in **'View details'** and **time** within them. Also track **external link** clicks and **Agent** usage. Finally, track **\"Use this template\"** clicks.\t\n",
    "\n",
    "Detect whether a template is not clear if avg. time is higher than the rest. Agent usage may indicate advanced users.\n",
    "\n",
    "### 5) Claim a name\n",
    "Track **final name and previous attempts** and **ENS's** website link clicks.\n",
    "\n",
    "Naming history might be used to do recommendations with NLP techniques in the future.\n",
    "ENS clicks may indicate less experienced users.\n",
    "\n",
    "### 6) Configure template (Voting)\n",
    "Track **temporal and final attribute states** (Support, Min Approval, Vote Duration).\t\n",
    "\n",
    "High frequence of a set of parameters may led to a 'deful settings' suggestion for quicker creation.\n",
    "\n",
    "### 7) Configure template (Tokens)\n",
    "Track previous and final **token name and symbol**. Track **ETH account attributes** from new token holders.\t\n",
    "\n",
    "Naming history might be used to do recommendations with NLP techniques in the future.\n",
    "Balance and holdings could be used to profile users by their blockchain interests.\n",
    "\n",
    "### 8) Review information\n",
    "Track interaction with parameters **widgets**.\t\n",
    "\n",
    "Most clicked widgets may indicate parameters less clear to users.\n",
    "\n",
    "### 9) Launch organization\n",
    "Track **fees** paid and **time** to confirm transaction for both user and network.\t\n",
    "\n",
    "Drop off at this stage may be correlated with high fees, network congestion or user inexperience."
   ]
  },
  {
   "cell_type": "markdown",
   "id": "bc22189f-571c-4b64-9a3a-fbd2ab65853f",
   "metadata": {},
   "source": [
    " "
   ]
  },
  {
   "cell_type": "markdown",
   "id": "bc3bf27e-907a-4b92-b130-686999c33cc6",
   "metadata": {},
   "source": [
    " "
   ]
  },
  {
   "cell_type": "markdown",
   "id": "cacccbb1-b04a-4ecb-8b44-b1af69ab4e16",
   "metadata": {},
   "source": [
    "---\n"
   ]
  },
  {
   "cell_type": "markdown",
   "id": "02cb57d2-18b8-43db-a495-3797fb20118f",
   "metadata": {},
   "source": [
    "### Used for this exersice\n",
    "- **Address**: 0x475ad47070805Fe3F3E58F3dc5f165915f63FC71\n",
    "- **DAOs created**\n",
    "  - https://rinkeby.client.aragon.org/?#/dao001/\n",
    "  - https://rinkeby.client.aragon.org/?#/dao002/"
   ]
  }
 ],
 "metadata": {
  "hide_code_all_hidden": false,
  "kernelspec": {
   "display_name": "pelayo-env",
   "language": "python",
   "name": "pelayo-env"
  },
  "language_info": {
   "codemirror_mode": {
    "name": "ipython",
    "version": 3
   },
   "file_extension": ".py",
   "mimetype": "text/x-python",
   "name": "python",
   "nbconvert_exporter": "python",
   "pygments_lexer": "ipython3",
   "version": "3.8.5"
  }
 },
 "nbformat": 4,
 "nbformat_minor": 5
}
